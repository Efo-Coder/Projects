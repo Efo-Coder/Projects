{
  "cells": [
    {
      "cell_type": "markdown",
      "metadata": {
        "id": "view-in-github",
        "colab_type": "text"
      },
      "source": [
        "<a href=\"https://colab.research.google.com/github/Efo-Coder/Projects/blob/main/Efrahim_Haser_Dictionaries_extra_Erklaerung.ipynb\" target=\"_parent\"><img src=\"https://colab.research.google.com/assets/colab-badge.svg\" alt=\"Open In Colab\"/></a>"
      ]
    },
    {
      "cell_type": "markdown",
      "metadata": {
        "id": "W5sMy8b361sF"
      },
      "source": [
        "# Dictionaries\n",
        "\n",
        "## Lernziele\n",
        "Nach diesem Abschnitt\n",
        "\n",
        "*   Wirst du mit der Dictionary-Datenstruktur vertraut sein\n",
        "*   Wirst du ein Dictionary mit verschiedenen Arten von Schlüsseln und Werten verwenden können\n",
        "*   Wirst du wissen, wie man den Inhalt eines Dictionarys durchläuft\n",
        "*   Wirst du einige typische Anwendungsfälle für Dictionaries nennen können\n",
        "\n",
        "---\n",
        "*kursiver Text*\n",
        "Listen können in vielen Situationen praktisch sein, sind aber dadurch eingeschränkt, dass auf die Elemente über Indizes zugegriffen wird; 0, 1, 2, und so weiter. Wenn du ein Element in einer Liste finden möchtest, musst du entweder dessen Index kennen oder schlimmstenfalls die gesamte Liste durchlaufen.\n",
        "\n",
        "Eine weitere zentrale Datenstruktur in Python ist das Dictionary. In einem Dictionary werden die Elemente durch Schlüssel indiziert. Jeder Schlüssel bildet auf einen Wert ab. Auf die im Dictionary gespeicherten Werte kann über den Schlüssel zugegriffen und diese geändert werden.\n",
        "\n",
        "## Verwendung eines Dictionarys\n",
        "Das folgende Beispiel zeigt dir, wie die Dictionary-Datenstruktur funktioniert. Hier ist ein einfaches Wörterbuch von Finnisch nach Englisch:"
      ]
    },
    {
      "cell_type": "code",
      "execution_count": null,
      "metadata": {
        "colab": {
          "base_uri": "https://localhost:8080/"
        },
        "id": "S6zZJMst7Fa3",
        "outputId": "a1eb2e46-2b97-45f6-9c43-55c86ba63b2b"
      },
      "outputs": [
        {
          "name": "stdout",
          "output_type": "stream",
          "text": [
            "3\n",
            "{'apina': 'monkey', 'banaani': 'banana', 'cembalo': 'harpsichord'}\n",
            "monkey\n"
          ]
        }
      ],
      "source": [
        "mein_woerterbuch = {}\n",
        "\n",
        "mein_woerterbuch[\"apina\"] = \"monkey\"\n",
        "mein_woerterbuch[\"banaani\"] = \"banana\"\n",
        "mein_woerterbuch[\"cembalo\"] = \"harpsichord\"\n",
        "\n",
        "print(len(mein_woerterbuch))\n",
        "print(mein_woerterbuch)\n",
        "print(mein_woerterbuch[\"apina\"])\n",
        "\n"
      ]
    },
    {
      "cell_type": "markdown",
      "metadata": {
        "id": "B8NPA_Hi7S88"
      },
      "source": [
        "Die Notation `{}` erstellt ein leeres Dictionary, dem wir nun Inhalt hinzufügen können. Drei Schlüssel-Wert-Paare werden hinzugefügt: \"apina\" bildet auf \"monkey\" ab, \"banaani\" auf \"banana\" und \"cembalo\" auf \"harpsichord\". Schließlich wird die Anzahl der Schlüssel-Wert-Paare im Dictionary ausgegeben, zusammen mit dem gesamten Dictionary und dem Wert, der dem Schlüssel \"apina\" zugeordnet ist.\n",
        "\n",
        "Nachdem das Dictionary definiert wurde, könnten wir es auch mit Benutzereingaben verwenden:"
      ]
    },
    {
      "cell_type": "code",
      "execution_count": null,
      "metadata": {
        "colab": {
          "base_uri": "https://localhost:8080/"
        },
        "id": "xroALWf57W5j",
        "outputId": "b0837dc4-4edf-4b2a-8af4-06217eaac3a7"
      },
      "outputs": [
        {
          "name": "stdout",
          "output_type": "stream",
          "text": [
            "Bitte gib ein Wort ein: Boot\n",
            "Wort nicht gefunden\n"
          ]
        }
      ],
      "source": [
        "# mein_woerterbuch sollte aus dem vorherigen Code-Block definiert sein\n",
        "wort = input(\"Bitte gib ein Wort ein: \")\n",
        "if wort in mein_woerterbuch:\n",
        "    print(\"Übersetzung: \", mein_woerterbuch[wort])\n",
        "else:\n",
        "    print(\"Wort nicht gefunden\")"
      ]
    },
    {
      "cell_type": "markdown",
      "metadata": {
        "id": "28Nk6Q567lKl"
      },
      "source": [
        "Beachte die Verwendung des in-Operators oben. Wenn er auf eine Variable vom Typ Dictionary angewendet wird, prüft er, ob der erste Operand unter den im Dictionary gespeicherten Schlüsseln vorhanden ist.\n",
        "\n",
        "##Was kann in einem Dictionary gespeichert werden?\n",
        "\n",
        "Der Datentyp heißt Dictionary, aber er muss nicht nur Strings enthalten. Zum Beispiel sind in dem folgenden Dictionary die Schlüssel Strings, aber die Werte sind ganze Zahlen:"
      ]
    },
    {
      "cell_type": "code",
      "execution_count": null,
      "metadata": {
        "colab": {
          "base_uri": "https://localhost:8080/"
        },
        "id": "4LFFU2IP76vl",
        "outputId": "2fa45b9e-877b-4079-a6f7-4ef3ed6423b1"
      },
      "outputs": [
        {
          "name": "stdout",
          "output_type": "stream",
          "text": [
            "{'Mary': 4, 'Alice': 5, 'Larry': 2}\n"
          ]
        }
      ],
      "source": [
        "ergebnisse = {}\n",
        "ergebnisse[\"Mary\"] = 4\n",
        "ergebnisse[\"Alice\"] = 5\n",
        "ergebnisse[\"Larry\"] = 2\n",
        "\n",
        "print(ergebnisse)"
      ]
    },
    {
      "cell_type": "markdown",
      "metadata": {
        "id": "cDvRNB668ML_"
      },
      "source": [
        "Hier sind die Schlüssel ganze Zahlen und die Werte sind Listen:"
      ]
    },
    {
      "cell_type": "code",
      "execution_count": null,
      "metadata": {
        "colab": {
          "base_uri": "https://localhost:8080/"
        },
        "id": "qC-YuE9J8PAM",
        "outputId": "419e0351-fdc8-4c2f-efa1-02e09fd7d408"
      },
      "outputs": [
        {
          "name": "stdout",
          "output_type": "stream",
          "text": [
            "{5: [1, 2, 3], 42: [5, 4, 5, 4, 5], 100: [5, 2, 3]}\n"
          ]
        }
      ],
      "source": [
        "listen = {}\n",
        "listen[5] = [1, 2, 3]\n",
        "listen[42] = [5, 4, 5, 4, 5]\n",
        "listen[100] = [5, 2, 3]\n",
        "\n",
        "print(listen)"
      ]
    },
    {
      "cell_type": "markdown",
      "metadata": {
        "id": "WJNc6LSy8biy"
      },
      "source": [
        "## Wie Schlüssel und Werte funktionieren\n",
        "\n",
        "Jeder Schlüssel kann nur einmal im Dictionary vorkommen. Wenn du einen Eintrag mit einem Schlüssel hinzufügst, der bereits im Dictionary vorhanden ist, wird der ursprüngliche Wert, der diesem Schlüssel zugeordnet war, durch den neuen Wert ersetzt:"
      ]
    },
    {
      "cell_type": "code",
      "execution_count": null,
      "metadata": {
        "colab": {
          "base_uri": "https://localhost:8080/"
        },
        "id": "BeRcxs1o8kRI",
        "outputId": "5f7c2d07-e3ad-456b-87e1-c8ca593769d3"
      },
      "outputs": [
        {
          "name": "stdout",
          "output_type": "stream",
          "text": [
            "large\n"
          ]
        }
      ],
      "source": [
        "# mein_woerterbuch sollte die vorherigen Einträge enthalten\n",
        "mein_woerterbuch[\"suuri\"] = \"big\"\n",
        "mein_woerterbuch[\"suuri\"] = \"large\"\n",
        "\n",
        "print(mein_woerterbuch[\"suuri\"])"
      ]
    },
    {
      "cell_type": "markdown",
      "metadata": {
        "id": "tReyfNVs8tPl"
      },
      "source": [
        "Alle Schlüssel in einem Dictionary müssen unveränderlich (immutable) sein. Daher kann eine Liste nicht als Schlüssel verwendet werden, da sie verändert werden kann. Zum Beispiel verursacht die Ausführung des folgenden Codes einen Fehler:"
      ]
    },
    {
      "cell_type": "code",
      "execution_count": null,
      "metadata": {
        "colab": {
          "base_uri": "https://localhost:8080/",
          "height": 162
        },
        "id": "nNNK2BQP8yef",
        "outputId": "cb165d03-c64f-4479-89a2-d5596cc1a99a"
      },
      "outputs": [
        {
          "ename": "TypeError",
          "evalue": "unhashable type: 'list'",
          "output_type": "error",
          "traceback": [
            "\u001b[0;31m---------------------------------------------------------------------------\u001b[0m",
            "\u001b[0;31mTypeError\u001b[0m                                 Traceback (most recent call last)",
            "\u001b[0;32m<ipython-input-8-b0fd6f6e38a4>\u001b[0m in \u001b[0;36m<cell line: 0>\u001b[0;34m()\u001b[0m\n\u001b[1;32m      1\u001b[0m \u001b[0;31m# mein_woerterbuch ist ein existierendes Dictionary\u001b[0m\u001b[0;34m\u001b[0m\u001b[0;34m\u001b[0m\u001b[0m\n\u001b[0;32m----> 2\u001b[0;31m \u001b[0mmein_woerterbuch\u001b[0m\u001b[0;34m[\u001b[0m\u001b[0;34m[\u001b[0m\u001b[0;36m1\u001b[0m\u001b[0;34m,\u001b[0m \u001b[0;36m2\u001b[0m\u001b[0;34m,\u001b[0m \u001b[0;36m3\u001b[0m\u001b[0;34m]\u001b[0m\u001b[0;34m]\u001b[0m \u001b[0;34m=\u001b[0m \u001b[0;36m5\u001b[0m \u001b[0;31m# Dies erzeugt einen Fehler\u001b[0m\u001b[0;34m\u001b[0m\u001b[0;34m\u001b[0m\u001b[0m\n\u001b[0m",
            "\u001b[0;31mTypeError\u001b[0m: unhashable type: 'list'"
          ]
        }
      ],
      "source": [
        "# mein_woerterbuch ist ein existierendes Dictionary\n",
        "mein_woerterbuch[[1, 2, 3]] = 5 # Dies erzeugt einen Fehler"
      ]
    },
    {
      "cell_type": "markdown",
      "metadata": {
        "id": "As1COaus88z8"
      },
      "source": [
        "## Hash-Tabelle\n",
        "\n",
        "Beachte das Wort `'unhashable'` in der Fehlermeldung oben. Dies ist ein Hinweis auf die innere Funktionsweise des Dictionary-Datentyps. Python speichert den Inhalt eines Dictionarys in einer Hash-Tabelle. Jeder Schlüssel wird auf einen Hash-Wert reduziert, der bestimmt, wo der Schlüssel im Computerspeicher abgelegt wird. Die Fehlermeldung oben zeigt an, dass eine Liste nicht zu einem Hash-Wert verarbeitet werden kann, sodass sie nicht als Schlüssel in einem Dictionary verwendet werden kann.\n",
        "\n",
        "Im Gegensatz zu Schlüsseln können sich die in einem Dictionary gespeicherten Werte ändern, sodass jeder Datentyp als Wert zulässig ist. Ein Wert kann auch mehreren Schlüsseln im selben Dictionary zugeordnet werden."
      ]
    },
    {
      "cell_type": "markdown",
      "metadata": {
        "id": "VDJNz6WK9dDv"
      },
      "source": [
        "## Aufgaben zum üben"
      ]
    },
    {
      "cell_type": "markdown",
      "metadata": {
        "id": "efjBXTUw9hRh"
      },
      "source": [
        "### 1. Aufgabe\n",
        "\n",
        "Schreibe eine Funktion namens **times_ten(start_index: int, end_index: int)**, die ein neues Wörterbuch erstellt und zurückgibt. Die Schlüssel des Wörterbuchs sollten die Zahlen zwischen start_index und end_index einschließlich sein\n",
        "\n",
        "Der Wert, der jedem Schlüssel zugeordnet ist, sollte der Schlüssel mal zehn sein.\n",
        "\n",
        "Zum Beispiel:\n",
        "\n",
        "\n",
        "```\n",
        "d = times_ten(3, 6)\n",
        "print(d)\n",
        "```\n",
        "\n",
        "\n",
        "\n",
        "Beispielausgabe\n",
        "{3: 30, 4: 40, 5: 50, 6: 60}\n",
        "\n",
        "\n"
      ]
    },
    {
      "cell_type": "code",
      "execution_count": null,
      "metadata": {
        "colab": {
          "base_uri": "https://localhost:8080/"
        },
        "id": "vrNWd3tS9gwd",
        "outputId": "b72dde2d-1a2b-4d67-a589-b05277eddee3"
      },
      "outputs": [
        {
          "data": {
            "text/plain": [
              "{3: 30, 4: 40, 5: 50, 6: 60}"
            ]
          },
          "execution_count": 9,
          "metadata": {},
          "output_type": "execute_result"
        }
      ],
      "source": [
        "def times_ten(start_index: int, end_index: int):\n",
        "  # Dein Code hier\n",
        "  times_ten_dict = {}\n",
        "  for i in range(start_index, end_index + 1):\n",
        "      times_ten_dict[i] = i * 10\n",
        "\n",
        "  return times_ten_dict\n",
        "\n",
        "times_ten(3, 6)"
      ]
    },
    {
      "cell_type": "markdown",
      "metadata": {
        "id": "DY0MN4We_H0R"
      },
      "source": [
        "**Hilfestellung**\n",
        "\n",
        "\n",
        "1. Definiere die Funktion `times_ten(start_index, end_index)`.\n",
        "\n",
        "2. Erstelle ein leeres Wörterbuch und benenne es.\n",
        "\n",
        "3. Benutze eine Schleife, um alle Zahlen von `start_index bis end_index `(einschließlich) zu durchlaufen:\n",
        "\n",
        "4. Für jede Zahl:\n",
        "\n",
        "    Berechne die einzelne Zahl * 10 und speichere das Ergebnis als Wert im Wörterbuch, wobei die Zahl der Schlüssel ist.\n",
        "\n",
        "5. Gib das Wörterbuch zurück.\n",
        "\n",
        "---"
      ]
    },
    {
      "cell_type": "markdown",
      "metadata": {
        "id": "0H5n_dJk-l6f"
      },
      "source": [
        "### 2. Aufgabe\n",
        "\n",
        "Schreibe eine Funktion namens `factorials(n: int)`, die die Faktoren der Zahlen 1 bis n in einem Wörterbuch zurückgibt. Die Zahl ist der Schlüssel, und die Fakultät dieser Zahl ist der Wert, der ihr zugeordnet ist.\n",
        "\n",
        "**Zur Erinnerung:** Die Fakultät der Zahl n wird mit `n!` geschrieben und berechnet sich durch Multiplikation der Zahl mit jeder ganzen Zahl, die kleiner als sie selbst ist. Die Fakultät von 4 ist zum Beispiel `4 * 3 * 2 * 1 = 24`.\n",
        "\n",
        "Ein Beispiel für die Funktion in Aktion:\n",
        "\n",
        "```\n",
        "k = Fakultät(5)\n",
        "print(k[1])\n",
        "print(k[3])\n",
        "print(k[5])\n",
        "```\n",
        "\n",
        "\n",
        "Beispielausgabe\n",
        "1\n",
        "6\n",
        "120"
      ]
    },
    {
      "cell_type": "markdown",
      "metadata": {
        "id": "X1DCZlYb_ywi"
      },
      "source": [
        "**Hilfestellung**\n",
        "\n",
        "1. Definiere die Funktion `factorials(n)`.\n",
        "\n",
        "2. Erstelle ein leeres Wörterbuch und benenne es.\n",
        "\n",
        "3. Durchlaufe eine Schleife von 1 bis n (einschließlich):\n",
        "\n",
        "    Berechne die Fakultät der aktuellen Zahl (z. B. durch eine weitere Schleife).\n",
        "\n",
        "    Speichere die Zahl als Schlüssel und ihre Fakultät als Wert im Wörterbuch.\n",
        "\n",
        "4. Gib das Wörterbuch zurück."
      ]
    },
    {
      "cell_type": "code",
      "execution_count": null,
      "metadata": {
        "colab": {
          "base_uri": "https://localhost:8080/"
        },
        "id": "ddDTWZ7oAUtt",
        "outputId": "cb7314df-5082-4a8c-f1d6-b5fc5c1a54d3"
      },
      "outputs": [
        {
          "name": "stdout",
          "output_type": "stream",
          "text": [
            "1\n",
            "6\n",
            "120\n"
          ]
        }
      ],
      "source": [
        "def factorials(n: int):\n",
        "  # Dein Code hier\n",
        "  result = 1\n",
        "  for i in range(1, n + 1):\n",
        "      result *= i\n",
        "\n",
        "  return result\n",
        "\n",
        "print(factorials(1))\n",
        "print(factorials(3))\n",
        "print(factorials(5))"
      ]
    },
    {
      "cell_type": "markdown",
      "metadata": {
        "id": "MUKIK67-A3k8"
      },
      "source": [
        "# Ein Dictionary durchlaufen\n",
        "Die bekannte `for element in sammlung`-Schleife kann auch verwendet werden, um ein Dictionary zu durchlaufen. Wenn sie direkt auf das Dictionary angewendet wird, durchläuft die Schleife die im Dictionary gespeicherten Schlüssel, einen nach dem anderen. Im folgenden Beispiel werden alle im Dictionary gespeicherten Schlüssel und Werte ausgegeben:"
      ]
    },
    {
      "cell_type": "code",
      "execution_count": null,
      "metadata": {
        "colab": {
          "base_uri": "https://localhost:8080/"
        },
        "id": "EzsFxROvA8bX",
        "outputId": "5e26275e-cce8-4689-812e-1c982f97cfc2"
      },
      "outputs": [
        {
          "name": "stdout",
          "output_type": "stream",
          "text": [
            "Schlüssel: apina\n",
            "Wert: monkey\n",
            "Schlüssel: banaani\n",
            "Wert: banana\n",
            "Schlüssel: cembalo\n",
            "Wert: harpsichord\n"
          ]
        }
      ],
      "source": [
        "mein_woerterbuch = {}\n",
        "\n",
        "mein_woerterbuch[\"apina\"] = \"monkey\"\n",
        "mein_woerterbuch[\"banaani\"] = \"banana\"\n",
        "mein_woerterbuch[\"cembalo\"] = \"harpsichord\"\n",
        "\n",
        "for schluessel in mein_woerterbuch:\n",
        "    print(\"Schlüssel:\", schluessel)\n",
        "    print(\"Wert:\", mein_woerterbuch[schluessel])"
      ]
    },
    {
      "cell_type": "markdown",
      "metadata": {
        "id": "FWJxcMb4BJD7"
      },
      "source": [
        "Manchmal musst du den gesamten Inhalt eines Dictionarys durchlaufen. Die Methode items() gibt alle im Dictionary gespeicherten Schlüssel und Werte zurück, ein Paar nach dem anderen:"
      ]
    },
    {
      "cell_type": "code",
      "execution_count": null,
      "metadata": {
        "colab": {
          "base_uri": "https://localhost:8080/"
        },
        "id": "QX1tierwBNT2",
        "outputId": "b554c224-b67b-4460-e190-bb042d6c9023"
      },
      "outputs": [
        {
          "name": "stdout",
          "output_type": "stream",
          "text": [
            "Schlüssel: apina\n",
            "Wert: monkey\n",
            "Schlüssel: banaani\n",
            "Wert: banana\n",
            "Schlüssel: cembalo\n",
            "Wert: harpsichord\n"
          ]
        }
      ],
      "source": [
        "# mein_woerterbuch aus dem vorherigen Beispiel\n",
        "for schluessel, wert in mein_woerterbuch.items():\n",
        "    print(\"Schlüssel:\", schluessel)\n",
        "    print(\"Wert:\", wert)"
      ]
    },
    {
      "cell_type": "markdown",
      "metadata": {
        "id": "5yW-AodQBVsB"
      },
      "source": [
        "In den obigen Beispielen hast du vielleicht bemerkt, dass die Schlüssel in derselben Reihenfolge verarbeitet werden, in der sie dem Dictionary hinzugefügt wurden. Da die Schlüssel auf Basis eines Hash-Werts verarbeitet werden, sollte die Reihenfolge in Anwendungen normalerweise keine Rolle spielen. Tatsächlich ist in vielen älteren Python-Versionen nicht garantiert, dass die Reihenfolge der Einfügezeit entspricht.\n",
        "\n",
        "## Einige fortgeschrittenere Arten, Dictionaries zu verwenden\n",
        "\n",
        "Schauen wir uns eine Liste von Wörtern an:"
      ]
    },
    {
      "cell_type": "code",
      "execution_count": null,
      "metadata": {
        "colab": {
          "base_uri": "https://localhost:8080/"
        },
        "id": "sCsixS4NBbM4",
        "outputId": "b1c406be-3703-452f-cfa4-16dae643c365"
      },
      "outputs": [
        {
          "name": "stdout",
          "output_type": "stream",
          "text": [
            "['banana', 'milk', 'beer', 'cheese', 'sourmilk', 'juice', 'sausage', 'tomato', 'cucumber', 'butter', 'margarine', 'cheese', 'sausage', 'beer', 'sourmilk', 'sourmilk', 'butter', 'beer', 'chocolate']\n"
          ]
        }
      ],
      "source": [
        "wort_liste = [\n",
        "  \"banana\", \"milk\", \"beer\", \"cheese\", \"sourmilk\", \"juice\", \"sausage\",\n",
        "  \"tomato\", \"cucumber\", \"butter\", \"margarine\", \"cheese\", \"sausage\",\n",
        "  \"beer\", \"sourmilk\", \"sourmilk\", \"butter\", \"beer\", \"chocolate\"\n",
        "]\n",
        "\n",
        "print(wort_liste)"
      ]
    },
    {
      "cell_type": "markdown",
      "metadata": {
        "id": "5u-bPIKnBi3g"
      },
      "source": [
        "Wir möchten diese Wortliste auf verschiedene Arten analysieren. Zum Beispiel möchten wir wissen, wie oft jedes Wort in der Liste vorkommt.\n",
        "\n",
        "Ein Dictionary kann ein nützliches Werkzeug sein, um diese Art von Informationen zu verwalten. Im folgenden Beispiel gehen wir die Elemente in der Liste einzeln durch. Indem wir die Wörter in der Liste als Schlüssel in einem neuen Dictionary verwenden, ist der Wert, der jedem Schlüssel zugeordnet ist, die Anzahl, wie oft das Wort erschienen ist:"
      ]
    },
    {
      "cell_type": "code",
      "execution_count": null,
      "metadata": {
        "colab": {
          "base_uri": "https://localhost:8080/"
        },
        "id": "G8G3CcR7BnrU",
        "outputId": "3a2bd32d-1b95-4347-9751-903cce5a5924"
      },
      "outputs": [
        {
          "name": "stdout",
          "output_type": "stream",
          "text": [
            "{'banana': 1, 'milk': 1, 'beer': 3, 'cheese': 2, 'sourmilk': 3, 'juice': 1, 'sausage': 2, 'tomato': 1, 'cucumber': 1, 'butter': 2, 'margarine': 1, 'chocolate': 1}\n"
          ]
        }
      ],
      "source": [
        "def zaehle_woerter(meine_liste):\n",
        "    woerter = {}\n",
        "    for wort in meine_liste:\n",
        "        # wenn das Wort noch nicht im Dictionary ist, initialisiere den Wert auf null\n",
        "        if wort not in woerter:\n",
        "            woerter[wort] = 0\n",
        "        # erhöhe den Wert\n",
        "        woerter[wort] += 1\n",
        "    return woerter\n",
        "\n",
        "# Rufe die Funktion auf\n",
        "\n",
        "print(zaehle_woerter(wort_liste))"
      ]
    },
    {
      "cell_type": "markdown",
      "metadata": {
        "id": "T71WhFmcBx-s"
      },
      "source": [
        "Was wäre, wenn wir die Wörter basierend auf dem Anfangsbuchstaben jedes Wortes kategorisieren wollten? Eine Möglichkeit, dies zu erreichen, wäre die Verwendung von Dictionaries:"
      ]
    },
    {
      "cell_type": "code",
      "execution_count": null,
      "metadata": {
        "colab": {
          "base_uri": "https://localhost:8080/"
        },
        "id": "5A9Vxqm1B184",
        "outputId": "5e618f0d-606c-4ee4-da18-5c94a2ca824a"
      },
      "outputs": [
        {
          "name": "stdout",
          "output_type": "stream",
          "text": [
            "Wörter beginnend mit b:\n",
            "banana\n",
            "beer\n",
            "butter\n",
            "beer\n",
            "butter\n",
            "beer\n",
            "Wörter beginnend mit m:\n",
            "milk\n",
            "margarine\n",
            "Wörter beginnend mit c:\n",
            "cheese\n",
            "cucumber\n",
            "cheese\n",
            "chocolate\n",
            "Wörter beginnend mit s:\n",
            "sourmilk\n",
            "sausage\n",
            "sausage\n",
            "sourmilk\n",
            "sourmilk\n",
            "Wörter beginnend mit j:\n",
            "juice\n",
            "Wörter beginnend mit t:\n",
            "tomato\n"
          ]
        }
      ],
      "source": [
        "def kategorisiere_nach_anfangsbuchstabe(meine_liste):\n",
        "    gruppen = {}\n",
        "    for wort in meine_liste:\n",
        "        anfangsbuchstabe = wort[0]\n",
        "        # initialisiere eine neue Liste, wenn der Buchstabe zum ersten Mal angetroffen wird\n",
        "        if anfangsbuchstabe not in gruppen:\n",
        "            gruppen[anfangsbuchstabe] = []\n",
        "        # füge das Wort der entsprechenden Liste hinzu\n",
        "        gruppen[anfangsbuchstabe].append(wort)\n",
        "    return gruppen\n",
        "\n",
        "gruppen = kategorisiere_nach_anfangsbuchstabe(wort_liste)\n",
        "\n",
        "for schluessel, wert in gruppen.items():\n",
        "    print(f\"Wörter beginnend mit {schluessel}:\")\n",
        "    for wort in wert:\n",
        "        print(wort)"
      ]
    },
    {
      "cell_type": "markdown",
      "metadata": {
        "id": "lblcwNDuB9mt"
      },
      "source": [
        "Die Struktur der Funktion ist der vorherigen Übung sehr ähnlich, aber dieses Mal sind die Werte, die den Schlüsseln zugeordnet sind, Listen.\n",
        "\n",
        "---\n",
        "\n",
        "### **Pseudocode: kategorisiere\\_nach\\_anfangsbuchstabe**\n",
        "\n",
        "1. Definiere die Funktion `kategorisiere_nach_anfangsbuchstabe(meine_liste)`.\n",
        "2. Erstelle ein leeres Wörterbuch `gruppen`, um Wörter nach Anfangsbuchstaben zu sortieren.\n",
        "3. Durchlaufe jedes `wort` in der Liste `meine_liste`:\n",
        "\n",
        "   * Bestimme den ersten Buchstaben von `wort` und speichere ihn in `anfangsbuchstabe`.\n",
        "   * Überprüfe, ob `anfangsbuchstabe` bereits als Schlüssel im Wörterbuch `gruppen` existiert\n",
        "\n",
        "     * Wenn nicht, initialisiere eine neue leere Liste für diesen Buchstaben.\n",
        "   * Füge das `wort` der Liste zu, die dem Schlüssel `anfangsbuchstabe` zugeordnet ist.\n",
        "4. Gib das Wörterbuch `gruppen` zurück.\n",
        "\n",
        "---\n",
        "\n",
        "### **Pseudocode: Ausgabe der Gruppen**\n",
        "\n",
        "1. Rufe die Funktion `kategorisiere_nach_anfangsbuchstabe()` mit der Wortliste auf und speichere das Ergebnis in `gruppen`.\n",
        "2. Durchlaufe jedes `schluessel`-`wert`-Paar in `gruppen`:\n",
        "\n",
        "   * Gib den Text aus: „Wörter beginnend mit `schluessel`:\n",
        "   * Durchlaufe die Wörter in der Liste `wert`:\n",
        "\n",
        "     * Gib jedes `wort` einzeln aus.\n"
      ]
    },
    {
      "cell_type": "markdown",
      "metadata": {
        "id": "2NehriHoCyWv"
      },
      "source": [
        "## Aufgaben zum Einüben"
      ]
    },
    {
      "cell_type": "markdown",
      "metadata": {
        "id": "WkY3mZ3sC0UQ"
      },
      "source": [
        "### 1. Aufgabe\n",
        "Schreibe eine Funktion namens `histogram`, die eine Zeichenkette als Argument annimmt. Die Funktion soll ein Histogramm ausgeben, das die Anzahl der Vorkommen der einzelnen Buchstaben in der Zeichenkette darstellt. Jedes Vorkommen eines Buchstabens sollte durch einen Stern in der entsprechenden Zeile dargestellt werden.\n",
        "\n",
        "Zum Beispiel sollte der Funktionsaufruf `histogram(\"abba\")` Folgendes ausgeben\n",
        "\n",
        "\n",
        "```\n",
        "Beispielhafte Ausgabe\n",
        "a **\n",
        "b **\n",
        "```\n",
        "\n",
        "\n"
      ]
    },
    {
      "cell_type": "markdown",
      "metadata": {
        "id": "8FZlgbk3DOo5"
      },
      "source": [
        "**Hilfestellung**\n",
        "\n",
        "1. Definiere die Funktion `histogram(wort)`.\n",
        "\n",
        "2. Erstelle ein leeres Wörterbuch und benenne es.\n",
        "\n",
        "3. Durchlaufe jedes Zeichen in der Eingabe-Zeichenkette `wort`:\n",
        "\n",
        "    Überprüfe, ob der Buchstabe bereits ein Schlüssel im Wörterbuch ist:\n",
        "\n",
        "        Wenn ja, erhöhe den Wert um 1.\n",
        "\n",
        "        Wenn nein, füge den Buchstaben als Schlüssel hinzu und setze den Wert auf 1.\n",
        "\n",
        "4. Durchlaufe jedes Schlüssel-Wert-Paar im Wörterbuch:\n",
        "\n",
        "5. Gib den Schlüssel und so viele Sterne `(*)`, wie der Wert angibt, aus."
      ]
    },
    {
      "cell_type": "code",
      "execution_count": null,
      "metadata": {
        "colab": {
          "base_uri": "https://localhost:8080/"
        },
        "id": "Sx63cUgRDElp",
        "outputId": "bffd6be0-f87a-4ef6-a68b-c19150960e47"
      },
      "outputs": [
        {
          "name": "stdout",
          "output_type": "stream",
          "text": [
            "a **\n",
            "b **\n",
            "e *\n",
            "l *\n",
            "v *\n",
            "i *\n",
            "s *\n"
          ]
        }
      ],
      "source": [
        "def histogram(wort):\n",
        "    # Dein Code hier\n",
        "    histogram_dict = {}\n",
        "\n",
        "    for char in wort:\n",
        "        if char not in histogram_dict:\n",
        "            histogram_dict[char] = 1\n",
        "        else:\n",
        "            histogram_dict[char] += 1\n",
        "\n",
        "    for key, value in histogram_dict.items():\n",
        "        print(f\"{key} {'*' * value}\")\n",
        "\n",
        "histogram(\"abba\")\n",
        "histogram(\"elvis\")"
      ]
    },
    {
      "cell_type": "markdown",
      "metadata": {
        "id": "YlrSMl6wEBXg"
      },
      "source": [
        "### 2. Aufgabe\n",
        "\n",
        "Schreibe eine Telefonbuchanwendung. Sie sollte wie folgt funktionieren:\n",
        "\n",
        "Beispielhafte Ausgabe\n",
        "```\n",
        "Befehl (1 suchen, 2 hinzufuegen, 3 beenden): 2\n",
        "name: Peter\n",
        "nummer: 0177/123456\n",
        "ok!\n",
        "Befehl (1 suchen, 2 hinzufuegen, 3 beenden): 2\n",
        "name: emily\n",
        "number: 0177/9876543\n",
        "ok!\n",
        "Befehl (1 suchen, 2 hinzufuegen, 3 beenden): 1\n",
        "name: peter\n",
        "0177/123456\n",
        "Befehl (1 suchen, 2 hinzufuegen, 3 beenden): 1\n",
        "name: mary\n",
        "Keine Nummer vorhanden\n",
        "Befehl (1 suchen, 2 hinzufuegen, 3 beenden): 2\n",
        "name: peter\n",
        "number: 0153/123456\n",
        "ok!\n",
        "Befehl (1 suchen, 2 hinzufuegen, 3 beenden): 1\n",
        "name: peter\n",
        "0153/123456\n",
        "Befehl (1 suchen, 2 hinzufuegen, 3 beenden): 3\n",
        "quit...\n",
        "```\n",
        "\n",
        "Wie du oben sehen kannst, kann jeder Name nur mit einer einzigen Nummer verknüpft werden. Wenn ein neuer Eintrag mit demselben Namen hinzugefügt wird, wird die dem alten Eintrag zugeordnete Nummer durch die neue Nummer ersetzt."
      ]
    },
    {
      "cell_type": "markdown",
      "metadata": {
        "id": "g3zYdcqkFLew"
      },
      "source": [
        "**Hilfestellung**\n",
        "\n",
        "1. Erstelle ein leeres Wörterbuch `telefonbuch`, um Namen und Nummern zu speichern.\n",
        "2. Solange der Benutzer nicht den \"Beenden\"-Befehl (3) eingibt:\n",
        "\n",
        "   * Fordere einen Befehl vom Benutzer an:\n",
        "\n",
        "     * **Befehl 1:** Nach einer Nummer suchen:\n",
        "\n",
        "       * Frage den Benutzer nach einem Namen.\n",
        "       * Gib die Nummer aus, falls der Name existiert, oder \"no number\", falls nicht.\n",
        "     * **Befehl 2:** Eine Nummer hinzufügen oder aktualisieren:\n",
        "\n",
        "       * Frage nach einem Namen und einer Nummer.\n",
        "       * Speichere diese Information im Telefonbuch (überschreibe bestehende Einträge).\n",
        "       * Gib \"ok!\" aus.\n",
        "     * **Befehl 3:** Beende das Programm und gib \"quit...\" aus.\n",
        "     * **Ungültiger Befehl:** Zeige eine Fehlermeldung.\n",
        "3. **Ende der Schleife:** Beende das Programm, wenn der Benutzer den \"Beenden\"-Befehl eingibt.\n"
      ]
    },
    {
      "cell_type": "code",
      "execution_count": null,
      "metadata": {
        "colab": {
          "base_uri": "https://localhost:8080/"
        },
        "id": "-qlMDWzAuooL",
        "outputId": "29fff6fa-f160-4149-a001-36dbfc088560",
        "collapsed": true
      },
      "outputs": [
        {
          "output_type": "stream",
          "name": "stdout",
          "text": [
            "Befehle: (\u001b[31m1\u001b[0m \u001b[30msuchen\u001b[0m, \u001b[32m2\u001b[0m \u001b[30mhinzufuegen\u001b[0m, \u001b[34m3\u001b[0m \u001b[30mbeenden\u001b[0m)\n",
            "\u001b[34m3\u001b[0m\n",
            "Programm wurde beendet.\n"
          ]
        }
      ],
      "source": [
        "from IPython.display import display, clear_output\n",
        "import time\n",
        "\n",
        "def telefonbuch():\n",
        "    telefonbuch = {}\n",
        "    color_codes = [\"\\033[31m\", \"\\033[32m\", \"\\033[34m\"]\n",
        "    while True:\n",
        "        print(\"Befehle: (\\033[31m1\\033[0m \\033[30msuchen\\033[0m, \\033[32m2\\033[0m \\033[30mhinzufuegen\\033[0m, \\033[34m3\\033[0m \\033[30mbeenden\\033[0m)\")\n",
        "        befehl = input()\n",
        "\n",
        "        clear_output(wait=False) # Bisherige Ausgabe wird gelöscht\n",
        "        time.sleep(0)            # Sleep Timer braucht man. Sonst buggt die clear_output-Funktion\n",
        "\n",
        "        print(\"Befehle: (\\033[31m1\\033[0m \\033[30msuchen\\033[0m, \\033[32m2\\033[0m \\033[30mhinzufuegen\\033[0m, \\033[34m3\\033[0m \\033[30mbeenden\\033[0m)\")\n",
        "        for i in range(0,3):\n",
        "            if befehl == str(i):\n",
        "                print(f\"{color_codes[i-1]}{befehl}\\033[0m\")\n",
        "\n",
        "        if befehl == \"1\":\n",
        "            name = input(\"Name: \")\n",
        "            if name in telefonbuch:\n",
        "                print(f\"Nummer: {telefonbuch[name]}\")\n",
        "            else:\n",
        "                print(f\"\\033[31mKeine Nummer unter '{name.capitalize()}' gespeichert.\\033[0m\")\n",
        "        elif befehl == \"2\":\n",
        "            name = input(\"Name: \")\n",
        "            nummer = input(\"Nummer: \")\n",
        "            telefonbuch[name] = nummer\n",
        "            print(f\"\\033[32m{name.capitalize()} wurde hinzugefügt!\\033[0m\")\n",
        "        elif befehl == \"3\":\n",
        "            print(\"\\033[34m3\\033[0m\")\n",
        "            print(\"Programm wurde beendet.\")\n",
        "            break\n",
        "        else:\n",
        "            print(\"Ungültiger Befehl.\")\n",
        "\n",
        "telefonbuch()"
      ]
    },
    {
      "cell_type": "markdown",
      "metadata": {
        "id": "quQrsLDjFt_j"
      },
      "source": [
        "# Schlüssel und Werte aus einem Dictionary entfernen\n",
        "Es ist natürlich auch möglich, Schlüssel-Wert-Paare aus dem Dictionary zu entfernen. Es gibt zwei Wege, dies zu erreichen. Der erste ist der Befehl `del`:"
      ]
    },
    {
      "cell_type": "code",
      "execution_count": null,
      "metadata": {
        "colab": {
          "base_uri": "https://localhost:8080/"
        },
        "id": "csEUXE8JFx_j",
        "outputId": "a29a884a-5bf4-4ddd-da09-66519728a597"
      },
      "outputs": [
        {
          "name": "stdout",
          "output_type": "stream",
          "text": [
            "{'Alan': 'Dozent', 'Emily': 'Professorin'}\n"
          ]
        }
      ],
      "source": [
        "personal = {\"Alan\": \"Dozent\", \"Emily\": \"Professorin\", \"David\": \"Dozent\"}\n",
        "del personal[\"David\"]\n",
        "print(personal)"
      ]
    },
    {
      "cell_type": "markdown",
      "metadata": {
        "id": "7mbB0aJEF3Ou"
      },
      "source": [
        "Wenn du versuchst, den del-Befehl zu verwenden, um einen Schlüssel zu löschen, der nicht im Dictionary existiert, wird es einen Fehler geben:"
      ]
    },
    {
      "cell_type": "code",
      "execution_count": null,
      "metadata": {
        "colab": {
          "base_uri": "https://localhost:8080/",
          "height": 162
        },
        "id": "074vapK3F504",
        "outputId": "3b24f359-97ce-4d9f-e535-5398d67e1a96"
      },
      "outputs": [
        {
          "ename": "KeyError",
          "evalue": "'Paul'",
          "output_type": "error",
          "traceback": [
            "\u001b[0;31m---------------------------------------------------------------------------\u001b[0m",
            "\u001b[0;31mKeyError\u001b[0m                                  Traceback (most recent call last)",
            "\u001b[0;32m<ipython-input-17-8dbf1458b06d>\u001b[0m in \u001b[0;36m<cell line: 0>\u001b[0;34m()\u001b[0m\n\u001b[1;32m      1\u001b[0m \u001b[0mpersonal\u001b[0m \u001b[0;34m=\u001b[0m \u001b[0;34m{\u001b[0m\u001b[0;34m\"Alan\"\u001b[0m\u001b[0;34m:\u001b[0m \u001b[0;34m\"Dozent\"\u001b[0m\u001b[0;34m,\u001b[0m \u001b[0;34m\"Emily\"\u001b[0m\u001b[0;34m:\u001b[0m \u001b[0;34m\"Professorin\"\u001b[0m\u001b[0;34m,\u001b[0m \u001b[0;34m\"David\"\u001b[0m\u001b[0;34m:\u001b[0m \u001b[0;34m\"Dozent\"\u001b[0m\u001b[0;34m}\u001b[0m\u001b[0;34m\u001b[0m\u001b[0;34m\u001b[0m\u001b[0m\n\u001b[0;32m----> 2\u001b[0;31m \u001b[0;32mdel\u001b[0m \u001b[0mpersonal\u001b[0m\u001b[0;34m[\u001b[0m\u001b[0;34m\"Paul\"\u001b[0m\u001b[0;34m]\u001b[0m \u001b[0;31m# Dies erzeugt einen Fehler\u001b[0m\u001b[0;34m\u001b[0m\u001b[0;34m\u001b[0m\u001b[0m\n\u001b[0m",
            "\u001b[0;31mKeyError\u001b[0m: 'Paul'"
          ]
        }
      ],
      "source": [
        "personal = {\"Alan\": \"Dozent\", \"Emily\": \"Professorin\", \"David\": \"Dozent\"}\n",
        "del personal[\"Paul\"] # Dies erzeugt einen Fehler"
      ]
    },
    {
      "cell_type": "markdown",
      "metadata": {
        "id": "jSM0BPgZGDhK"
      },
      "source": [
        "Also, bevor du einen Schlüssel löschst, solltest du prüfen, ob er im Dictionary vorhanden ist:"
      ]
    },
    {
      "cell_type": "code",
      "execution_count": null,
      "metadata": {
        "colab": {
          "base_uri": "https://localhost:8080/"
        },
        "id": "fuk8xr0bGGia",
        "outputId": "10e54f23-d7b1-48b5-a8bb-ad9b01ea8a8e"
      },
      "outputs": [
        {
          "name": "stdout",
          "output_type": "stream",
          "text": [
            "Diese Person ist kein Mitglied des Personals\n"
          ]
        }
      ],
      "source": [
        "personal = {\"Alan\": \"Dozent\", \"Emily\": \"Professorin\", \"David\": \"Dozent\"}\n",
        "if \"Paul\" in personal:\n",
        "  del personal[\"Paul\"]\n",
        "  print(\"Gelöscht\")\n",
        "else:\n",
        "  print(\"Diese Person ist kein Mitglied des Personals\")"
      ]
    },
    {
      "cell_type": "markdown",
      "metadata": {
        "id": "FTYMurU8GV7R"
      },
      "source": [
        "Der andere Weg, Einträge in einem Dictionary zu löschen, ist die Methode pop:"
      ]
    },
    {
      "cell_type": "code",
      "execution_count": null,
      "metadata": {
        "colab": {
          "base_uri": "https://localhost:8080/"
        },
        "id": "me5-rCDZGbJ9",
        "outputId": "d4085ebf-e9c0-4ec2-93cc-5000c72d9c17"
      },
      "outputs": [
        {
          "name": "stdout",
          "output_type": "stream",
          "text": [
            "{'Alan': 'Dozent', 'Emily': 'Professorin'}\n",
            "Dozent gelöscht\n"
          ]
        }
      ],
      "source": [
        "personal = {\"Alan\": \"Dozent\", \"Emily\": \"Professorin\", \"David\": \"Dozent\"}\n",
        "geloescht = personal.pop(\"David\")\n",
        "print(personal)\n",
        "print(geloescht, \"gelöscht\")"
      ]
    },
    {
      "cell_type": "markdown",
      "metadata": {
        "id": "IorMInU1GgGG"
      },
      "source": [
        "Wie du oben sehen kannst, gibt pop auch den Wert des gelöschten Eintrags zurück.\n",
        "\n",
        "Standardmäßig verursacht pop auch einen Fehler, wenn du versuchst, einen Schlüssel zu löschen, der nicht im Dictionary vorhanden ist. Es ist möglich, dies zu vermeiden, indem man der Methode ein zweites Argument übergibt, das einen Standard-Rückgabewert enthält. Dieser Wert wird zurückgegeben, falls der Schlüssel nicht im Dictionary gefunden wird. Der spezielle Python-Wert None funktioniert hier:"
      ]
    },
    {
      "cell_type": "code",
      "execution_count": null,
      "metadata": {
        "id": "0k7L8x7GGjuG"
      },
      "outputs": [],
      "source": [
        "personal = {\"Alan\": \"Dozent\", \"Emily\": \"Professorin\", \"David\": \"Dozent\"}\n",
        "geloescht = personal.pop(\"Paul\", None)\n",
        "if geloescht == None:\n",
        "  print(\"Diese Person ist kein Mitglied des Personals\")\n",
        "else:\n",
        "  print(geloescht, \"gelöscht\")"
      ]
    },
    {
      "cell_type": "markdown",
      "metadata": {
        "id": "f_JJriQ8Gnkc"
      },
      "source": [
        "Wenn du den Inhalt des gesamten Dictionarys löschen musst und versuchst, dies mit einer for-Schleife zu tun, wie hier"
      ]
    },
    {
      "cell_type": "code",
      "execution_count": null,
      "metadata": {
        "colab": {
          "base_uri": "https://localhost:8080/",
          "height": 180
        },
        "id": "__iilMG1Gl5r",
        "outputId": "76a084bc-27c3-4a40-85a6-03c70b07790e"
      },
      "outputs": [
        {
          "ename": "RuntimeError",
          "evalue": "dictionary changed size during iteration",
          "output_type": "error",
          "traceback": [
            "\u001b[0;31m---------------------------------------------------------------------------\u001b[0m",
            "\u001b[0;31mRuntimeError\u001b[0m                              Traceback (most recent call last)",
            "\u001b[0;32m<ipython-input-20-3ec056f75925>\u001b[0m in \u001b[0;36m<cell line: 0>\u001b[0;34m()\u001b[0m\n\u001b[1;32m      1\u001b[0m \u001b[0mpersonal\u001b[0m \u001b[0;34m=\u001b[0m \u001b[0;34m{\u001b[0m\u001b[0;34m\"Alan\"\u001b[0m\u001b[0;34m:\u001b[0m \u001b[0;34m\"Dozent\"\u001b[0m\u001b[0;34m,\u001b[0m \u001b[0;34m\"Emily\"\u001b[0m\u001b[0;34m:\u001b[0m \u001b[0;34m\"Professorin\"\u001b[0m\u001b[0;34m,\u001b[0m \u001b[0;34m\"David\"\u001b[0m\u001b[0;34m:\u001b[0m \u001b[0;34m\"Dozent\"\u001b[0m\u001b[0;34m}\u001b[0m\u001b[0;34m\u001b[0m\u001b[0;34m\u001b[0m\u001b[0m\n\u001b[0;32m----> 2\u001b[0;31m \u001b[0;32mfor\u001b[0m \u001b[0mschluessel\u001b[0m \u001b[0;32min\u001b[0m \u001b[0mpersonal\u001b[0m\u001b[0;34m:\u001b[0m \u001b[0;31m# Dies führt zu einem Fehler, wenn man während der Iteration löscht\u001b[0m\u001b[0;34m\u001b[0m\u001b[0;34m\u001b[0m\u001b[0m\n\u001b[0m\u001b[1;32m      3\u001b[0m    \u001b[0;32mdel\u001b[0m \u001b[0mpersonal\u001b[0m\u001b[0;34m[\u001b[0m\u001b[0mschluessel\u001b[0m\u001b[0;34m]\u001b[0m\u001b[0;34m\u001b[0m\u001b[0;34m\u001b[0m\u001b[0m\n",
            "\u001b[0;31mRuntimeError\u001b[0m: dictionary changed size during iteration"
          ]
        }
      ],
      "source": [
        "personal = {\"Alan\": \"Dozent\", \"Emily\": \"Professorin\", \"David\": \"Dozent\"}\n",
        "for schluessel in personal: # Dies führt zu einem Fehler, wenn man während der Iteration löscht\n",
        "   del personal[schluessel]"
      ]
    },
    {
      "cell_type": "markdown",
      "metadata": {
        "id": "1Jf121BtGx5Y"
      },
      "source": [
        "Wenn du eine Sammlung mit einer for-Schleife durchläufst, darf sich der Inhalt nicht ändern, während die Schleife läuft.\n",
        "\n",
        "Glücklicherweise gibt es eine Dictionary-Methode genau für diesen Zweck:"
      ]
    },
    {
      "cell_type": "code",
      "execution_count": null,
      "metadata": {
        "colab": {
          "base_uri": "https://localhost:8080/"
        },
        "id": "1yQV7Tu-G1RA",
        "outputId": "3b630f51-0ddb-4b8e-8426-cbc0f516be51"
      },
      "outputs": [
        {
          "name": "stdout",
          "output_type": "stream",
          "text": [
            "{}\n"
          ]
        }
      ],
      "source": [
        "personal.clear()\n",
        "print(personal) # Zeigt ein leeres Dictionary"
      ]
    },
    {
      "cell_type": "markdown",
      "metadata": {
        "id": "-EGBb9H1G8R_"
      },
      "source": [
        "## Aufgaben zum Einüben"
      ]
    },
    {
      "cell_type": "markdown",
      "metadata": {
        "id": "hN9WusbcG_wI"
      },
      "source": [
        "### 1. Aufgabe\n",
        "\n",
        "Schreibe eine Funktion namens `invert(dictionary: dict)`, die ein Wörterbuch als Argument annimmt. Das Wörterbuch sollte invertiert werden, so dass Werte zu Schlüsseln und Schlüssel zu Werten werden.\n",
        "\n",
        "Ein Beispiel für seine Verwendung:\n",
        "\n",
        "```\n",
        "s = {1: \"erste\", 2: \"zweite\", 3: \"dritte\", 4: \"vierte\"}\n",
        "invert(s)\n",
        "print(s)\n",
        "Beispielausgabe\n",
        "{\"erste\": 1, \"zweite\": 2, \"dritte\": 3, \"vierte\": 4}\n",
        "```\n",
        "\n",
        "\n",
        "Hinweis: Die hier behandelten Prinzipien für Listen gelten auch für Wörterbücher, die als Argumente übergeben werden."
      ]
    },
    {
      "cell_type": "markdown",
      "metadata": {
        "id": "SdiWhQQaHWmF"
      },
      "source": [
        "**Hilfestellung**\n",
        "\n",
        "\n",
        "1. **Initialisiere ein neues Wörterbuch**: Erstelle ein leeres Wörterbuch, das die invertierten Schlüssel-Wert-Paare speichern soll.\n",
        "2. **Durchlaufe das Eingabewörterbuch**: Für jedes Schlüssel-Wert-Paar im Eingabewörterbuch:\n",
        "\n",
        "   * Weise den Wert des Eingabewörterbuchs als Schlüssel dem neuen Wörterbuch zu.\n",
        "   * Weise den Schlüssel des Eingabewörterbuchs als Wert dem neuen Wörterbuch zu.\n",
        "3. **Gib das invertierte Wörterbuch zurück**: Sobald alle Paare verarbeitet wurden, wird das neue Wörterbuch zurückgegeben.\n",
        "\n",
        "Die Funktion tauscht die Rollen von Schlüsseln und Werten.\n"
      ]
    },
    {
      "cell_type": "code",
      "execution_count": null,
      "metadata": {
        "id": "J_89jSbTHYY8",
        "colab": {
          "base_uri": "https://localhost:8080/"
        },
        "outputId": "f26ccd31-3802-4f56-a348-f82df0d74b23"
      },
      "outputs": [
        {
          "output_type": "stream",
          "name": "stdout",
          "text": [
            "{1: 'erste', 2: 'zweite', 3: 'dritte', 4: 'vierte'}\n",
            "{'erste': 1, 'zweite': 2, 'dritte': 3, 'vierte': 4}\n"
          ]
        }
      ],
      "source": [
        "def invert(dictionary):\n",
        "    # Dein Code hier\n",
        "    inversed = {}\n",
        "\n",
        "    for key, value in dictionary.items():\n",
        "        inversed[value] = key\n",
        "\n",
        "    return inversed\n",
        "\n",
        "\n",
        "s = {1: \"erste\", 2: \"zweite\", 3: \"dritte\", 4: \"vierte\"}\n",
        "print(s)\n",
        "inverted = invert(s)\n",
        "print(inverted)\n",
        "# Beispielausgabe\n",
        "# {\"erste\": 1, \"zweite\": 2, \"dritte\": 3, \"vierte\": 4}"
      ]
    },
    {
      "cell_type": "markdown",
      "metadata": {
        "id": "37w1-Eq2IY_N"
      },
      "source": [
        "# Dictionaries für strukturierte Daten verwenden\n",
        "Dictionaries sind sehr nützlich, um Daten zu strukturieren. Der folgende Code erstellt ein Dictionary, das einige persönliche Daten enthält:"
      ]
    },
    {
      "cell_type": "code",
      "execution_count": null,
      "metadata": {
        "id": "VKZYMWYRIcab"
      },
      "outputs": [],
      "source": [
        "person = {\"name\": \"Pippa Python\", \"height\": 154, \"weight\": 61, \"age\": 44}"
      ]
    },
    {
      "cell_type": "markdown",
      "metadata": {
        "id": "jg6dihUxIi6o"
      },
      "source": [
        "Das bedeutet, dass wir hier eine Person namens Pippa Python haben, deren Größe 154, Gewicht 61 und Alter 44 beträgt. Dieselben Informationen könnten genauso gut in Variablen gespeichert werden:\n",
        "\n",
        "\n",
        "```\n",
        "name = \"Pippa Python\"\n",
        "height = 154\n",
        "weight = 61\n",
        "age = 44\n",
        "```\n",
        "\n",
        "\n",
        "Der Vorteil eines Dictionarys ist, dass es eine Sammlung ist. Es sammelt zusammengehörige Daten unter einer Variablen, sodass es einfach ist, auf die verschiedenen Komponenten zuzugreifen. Derselbe Vorteil wird auch von einer Liste geboten:"
      ]
    },
    {
      "cell_type": "code",
      "execution_count": null,
      "metadata": {
        "id": "5jpsCVAVI6Gd"
      },
      "outputs": [],
      "source": [
        "person = [\"Pippa Python\", 154, 61, 44]\n",
        "# Beachte: Im Originaltext war hier 153, aber der Kontext (und das vorherige Dictionary) deutet auf 154 hin. Ich behalte 154 bei für Konsistenz mit dem Dictionary-Beispiel."
      ]
    },
    {
      "cell_type": "markdown",
      "metadata": {
        "id": "afp0K4nXIudH"
      },
      "source": [
        "\n",
        "Bei Listen muss sich der Programmierer daran erinnern, was an jedem Index in der Liste gespeichert ist. Es gibt nichts, was darauf hindeutet, dass `person[2]` das Gewicht und `person[3]` das Alter der Person enthält. Bei Verwendung eines Dictionarys wird dieses Problem vermieden, da auf jedes Datenelement über einen benannten Schlüssel zugegriffen wird.\n",
        "\n",
        "Angenommen, wir haben mehrere Personen im selben Format definiert, können wir auf ihre Daten auf folgende Weise zugreifen:"
      ]
    },
    {
      "cell_type": "code",
      "execution_count": null,
      "metadata": {
        "colab": {
          "base_uri": "https://localhost:8080/"
        },
        "id": "ZzJbug5FJIgk",
        "outputId": "3d5fe555-8c1d-422b-fda8-3e512891b880"
      },
      "outputs": [
        {
          "name": "stdout",
          "output_type": "stream",
          "text": [
            "Pippa Python\n",
            "Peter Pythons\n",
            "Pedro Python\n",
            "Die durchschnittliche Größe ist 173.0\n"
          ]
        }
      ],
      "source": [
        "person1 = {\"name\": \"Pippa Python\", \"height\": 154, \"weight\": 61, \"age\": 44}\n",
        "person2 = {\"name\": \"Peter Pythons\", \"height\": 174, \"weight\": 103, \"age\": 31}\n",
        "person3 = {\"name\": \"Pedro Python\", \"height\": 191, \"weight\": 71, \"age\": 14}\n",
        "\n",
        "personen = [person1, person2, person3]\n",
        "\n",
        "for person in personen:\n",
        "    print(person[\"name\"])\n",
        "\n",
        "gesamte_groesse = 0\n",
        "for person in personen:\n",
        "    gesamte_groesse += person[\"height\"]\n",
        "\n",
        "print(\"Die durchschnittliche Größe ist\", gesamte_groesse / len(personen))"
      ]
    },
    {
      "cell_type": "markdown",
      "metadata": {
        "id": "6FNvFlBxJRAF"
      },
      "source": [
        "## Aufgaben zum einüben\n",
        "\n",
        "### 1. Aufgabe\n",
        "Schreibe eine Funktion namens `add_movie(database: list, name: str, regisseur: str, year: int, filmlaenge: int)`, die ein neues Filmobjekt in eine Filmdatenbank einfügt.\n",
        "\n",
        "Die Datenbank ist eine Liste, und jedes Filmobjekt in der Liste ist ein Wörterbuch. Das Wörterbuch sollte die folgenden Schlüssel enthalten.\n",
        "\n",
        "name\n",
        "regisseur\n",
        "jahr\n",
        "filmlaenge\n",
        "\n",
        "Die Werte, die diesen Schlüsseln zugeordnet sind, werden der Funktion als Argumente übergeben.\n",
        "\n",
        "Ein Beispiel für die Verwendung der Funktion:\n",
        "\n",
        "\n",
        "```\n",
        "database = []\n",
        "add_movie(database, \"Gone with the Python\", \"Victor Pything\", 2017, 116)\n",
        "add_movie(database, \"Pythons on a Plane\", \"Renny Pytholin\", 2001, 94)\n",
        "print(database)\n",
        "```\n",
        "\n",
        "```\n",
        "[{\"name\": \"Gone with the Python\", \"regisseur\": \"Victor Pything\", \"jahr\": 2017, \"filmlaenge\": 116}, {\"name\": \"Pythons on a Plane\", \"regisseur\": \"Renny Pytholin\", \"jahr\": 2001, \"filmlaenge\": 94}]\n",
        "```\n",
        "\n"
      ]
    },
    {
      "cell_type": "markdown",
      "metadata": {
        "id": "tGu6aG-XKLK9"
      },
      "source": [
        "**Hilfestellung**\n",
        "\n",
        "1. Funktion definieren `add_movie` mit folgenden Parametern: `database, name, regisseur, jahr, filmlaenge`\n",
        "\n",
        "2. Erstelle ein neues Film-Wörterbuch mit den Schlüsseln:\n",
        "\n",
        "```\n",
        "name: Wert aus Parameter name\n",
        "\n",
        "regisseur: Wert aus Parameter director\n",
        "\n",
        "jahr: Wert aus Parameter year\n",
        "\n",
        "filmlaenge: Wert aus Parameter runtime\n",
        "```\n",
        "\n",
        "3. Füge das neue Film-Wörterbuch zur Liste `database` hinzu\n",
        "\n",
        "4. Keine Rückgabe nötig (die Liste wird in-place geändert)"
      ]
    },
    {
      "cell_type": "code",
      "execution_count": null,
      "metadata": {
        "id": "0dQlmuuYKEiQ",
        "colab": {
          "base_uri": "https://localhost:8080/"
        },
        "outputId": "562a0143-703c-4e76-cc30-d7512d631638"
      },
      "outputs": [
        {
          "output_type": "stream",
          "name": "stdout",
          "text": [
            "[{'name': 'Gone with the Python', 'regisseur': 'Victor Pything', 'jahr': 2017, 'filmlaenge': 116}, {'name': 'Pythons on a Plane', 'regisseur': 'Renny Pytholin', 'jahr': 2001, 'filmlaenge': 94}]\n"
          ]
        }
      ],
      "source": [
        "def add_movie(database: list, name: str, director: str, year: int, runtime: int):\n",
        "    movie = {\n",
        "              \"name\" : name ,\n",
        "              \"regisseur\" : director ,\n",
        "              \"jahr\" : year ,\n",
        "              \"filmlaenge\" : runtime\n",
        "            }\n",
        "\n",
        "    database.append(movie)\n",
        "\n",
        "database = []\n",
        "add_movie(database, \"Gone with the Python\", \"Victor Pything\", 2017, 116)\n",
        "add_movie(database, \"Pythons on a Plane\", \"Renny Pytholin\", 2001, 94)\n",
        "print(database)"
      ]
    },
    {
      "cell_type": "markdown",
      "metadata": {
        "id": "1IhVB5xlKzAb"
      },
      "source": [
        "### 2. Aufgabe\n",
        "\n",
        "Schreibe eine Funktion namens `find_movies(database: list, search_term: str)`, die die in der vorherigen Übung erstellte Filmdatenbank verarbeitet. Die Funktion soll eine neue Liste formulieren, die nur die Filme enthält, deren Titel das gesuchte Wort enthält. Die Großschreibung ist dabei irrelevant. Eine Suche nach **ana** sollte eine Liste zurückgeben, die sowohl **Anaconda** als auch **Management** enthält.\n",
        "\n",
        "Ein Beispiel für die Verwendung:\n",
        "\n",
        "\n",
        "```\n",
        "database = [{\"name\": \"Gone with the Python\", \"regisseur\": \"Victor Pything\", \"jahr\": 2017, \"filmlaenge\": 116}, {\"name\": \"Pythons on a Plane\", \"regisseur\": \"Renny Pytholin\", \"jahr\": 2001, \"filmlaenge\": 94},\n",
        "{\"name\": \"Dawn of the Dead Programmers\", \"regisseur\": \"M. Night Python\", \"jahr\": 2011, \"filmlaenge\": 101}]\n",
        "\n",
        "my_movies = find_movies(database, \"python\")\n",
        "print(my_movies)\n",
        "Beispielhafte Ausgabe\n",
        "[{\"name\": \"Gone with the Python\", \"regisseur\": \"Victor Pything\", \"jahr\": 2017, \"filmlaenge\": 116}, {\"name\": \"Pythons on a Plane\", \"regisseur\": \"Renny Pytholin\", \"jahr\": 2001, \"filmlaenge\": 94}]\n",
        "```\n",
        "\n"
      ]
    },
    {
      "cell_type": "markdown",
      "metadata": {
        "id": "VFHTbpplLb2Q"
      },
      "source": [
        "**Hilfestellung**\n",
        "\n",
        "1. Funktion definieren `find_movies mit Parametern: database (Liste von Filmen), search_term (Suchbegriff)`\n",
        "\n",
        "2. Erstelle eine leere Liste result für gefundene Filme\n",
        "\n",
        "3. Durchlaufe jeden Film in der database:\n",
        "\n",
        "    Wandle den Filmtitel `(film[\"name\"])` und den `Suchbegriff (search_term)` in Kleinbuchstaben um\n",
        "\n",
        "    Prüfe, ob der Suchbegriff im Filmtitel enthalten ist\n",
        "\n",
        "    Wenn ja, füge den Film der Ergebnisliste result hinzu\n",
        "\n",
        "4. Gib die Ergebnisliste zurück"
      ]
    },
    {
      "cell_type": "code",
      "execution_count": null,
      "metadata": {
        "id": "jiswzHj2L31p",
        "colab": {
          "base_uri": "https://localhost:8080/"
        },
        "outputId": "6383fe91-5174-4ee3-8bf4-66961462a302"
      },
      "outputs": [
        {
          "output_type": "stream",
          "name": "stdout",
          "text": [
            "\u001b[36mPassende Ergebnisse:\u001b[0m\n",
            "Name: Gone with the \u001b[33mPython\u001b[0m\n",
            "Regisseur: Victor Pything\n",
            "Jahr: 2017\n",
            "Filmlaenge: 116\n",
            "\n",
            "Name: \u001b[33mPython\u001b[0ms on a plane\n",
            "Regisseur: Renny Pytholin\n",
            "Jahr: 2001\n",
            "Filmlaenge: 94\n",
            "\n",
            "\u001b[30mODER\u001b[0m\n",
            "\n",
            "\u001b[36mPassende Ergebnisse:\u001b[0m\n",
            "Gone with the \u001b[33mPython\u001b[0m\n",
            "\u001b[33mPython\u001b[0ms on a plane\n",
            "\n",
            "\u001b[30mODER\u001b[0m\n",
            "\n",
            "[{'name': 'gone with the \\x1b[33mPython\\x1b[0m', 'regisseur': 'Victor Pything', 'jahr': 2017, 'filmlaenge': 116}, {'name': '\\x1b[33mPython\\x1b[0ms on a plane', 'regisseur': 'Renny Pytholin', 'jahr': 2001, 'filmlaenge': 94}]\n"
          ]
        }
      ],
      "source": [
        "def find_movies(database: list, search_term: str):\n",
        "    matching_movies = []\n",
        "\n",
        "\n",
        "    for movie in database:\n",
        "        if search_term.lower() in movie[\"name\"].lower():\n",
        "            old_name = movie[\"name\"].lower()\n",
        "            movie[\"name\"] = old_name.replace(search_term.lower(), f\"\\033[33m{search_term.capitalize()}\\033[0m\")\n",
        "            matching_movies.append(movie)\n",
        "\n",
        "    # Ausgabe Methode 1\n",
        "    print(\"\\033[36mPassende Ergebnisse:\\033[0m\")\n",
        "    for movie in matching_movies:\n",
        "        for key, value in movie.items():\n",
        "            if isinstance(key, str) and isinstance(value, str):\n",
        "                print(f\"{key.capitalize()}: {value[0].upper() + value[1:]}\")\n",
        "            else:\n",
        "                 print(f\"{key.capitalize()}: {value}\")\n",
        "        print(\"\")\n",
        "\n",
        "    print(\"\\033[30mODER\\033[0m\\n\")\n",
        "\n",
        "    # Ausgabe Methode 2\n",
        "    print(\"\\033[36mPassende Ergebnisse:\\033[0m\")\n",
        "    for movie in matching_movies:\n",
        "        print(movie[\"name\"][0].upper() + movie[\"name\"][1:])\n",
        "    print(\"\")\n",
        "\n",
        "    print(\"\\033[30mODER\\033[0m\\n\")\n",
        "\n",
        "    # Ausgabe Methode 3\n",
        "    return matching_movies\n",
        "\n",
        "\n",
        "database = [\n",
        "{\"name\": \"Gone with the Python\", \"regisseur\": \"Victor Pything\", \"jahr\": 2017, \"filmlaenge\": 116},\n",
        "{\"name\": \"Pythons on a Plane\", \"regisseur\": \"Renny Pytholin\", \"jahr\": 2001, \"filmlaenge\": 94},\n",
        "{\"name\": \"Dawn of the Dead Programmers\", \"regisseur\": \"M. Night Python\", \"jahr\": 2011, \"filmlaenge\": 101}\n",
        "           ]\n",
        "\n",
        "my_movies = find_movies(database, \"python\")\n",
        "print(my_movies)"
      ]
    }
  ],
  "metadata": {
    "colab": {
      "provenance": [],
      "include_colab_link": true
    },
    "kernelspec": {
      "display_name": "Python 3",
      "name": "python3"
    },
    "language_info": {
      "name": "python"
    }
  },
  "nbformat": 4,
  "nbformat_minor": 0
}